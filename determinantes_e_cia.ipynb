{
 "cells": [
  {
   "cell_type": "markdown",
   "metadata": {},
   "source": [
    "<head>\n",
    "<title>DETERMINANTES E CIA</title>\n",
    "\n",
    "<meta name=\"author\" content=\"Rômulo Bergesch Raffin\">\n",
    "<meta name=\"date\"content=\"12/05/2015\">\n",
    "<meta name=\"version\" content=\"0.1\">\n",
    "\n",
    "</head>"
   ]
  },
  {
   "cell_type": "markdown",
   "metadata": {},
   "source": [
    "<h1 style=\"text-align:center\">DETERMINANTES & CIA</h1>"
   ]
  },
  {
   "cell_type": "markdown",
   "metadata": {},
   "source": [
    "<h3>OBJETIVOS</h3>\n",
    "<p style=\"text-align:justify;text-indent:2em\">Compreender de onde vêm e como calcular:\n",
    "<ul>\n",
    "    <li>determinantes de matrizes;</li>\n",
    "    <li>menores e cofatores de uma matriz;</li>\n",
    "    <li>inversa de uma matriz;</li>\n",
    "    <li>autovalores e autovetores de uma matriz.</li>\n",
    "</ul>\n",
    "</p>"
   ]
  },
  {
   "cell_type": "markdown",
   "metadata": {},
   "source": [
    "<h3>DETERMINANTE</h3>"
   ]
  },
  {
   "cell_type": "markdown",
   "metadata": {},
   "source": [
    "<p style=\"text-align:justify;text-indent:2em\">Considere o seguinte sistema:</p>\n",
    "$$\n",
    "\\begin{cases}\n",
    "A_{11} \\cdot X_1 + A_{12} \\cdot X_2 = B_1 \\quad (1)\\\\\n",
    "A_{21} \\cdot X_1 + A_{22} \\cdot X_2 = B_2 \\quad (2)\n",
    "\\end{cases}\n",
    "$$\n",
    "<p style=\"text-align:justify;text-indent:2em\">Resolvendo por substituição de variáveis:</p>\n",
    "<p style=\"text-align:justify;text-indent:2em\">(2):</p>\n",
    "$$\n",
    "A_{22} \\cdot X_2 = B_2 - A_{21} \\cdot X_1 \\\\\n",
    "X_2 = \\frac{B_2 - A_{21} \\cdot X_1}{A_{22}} \\quad (3) \\\\\n",
    "$$\n",
    "<p style=\"text-align:justify;text-indent:2em\">(3) &rarr; (1):</p>\n",
    "$$\n",
    "A_{11} \\cdot X_1 + A_{12} \\cdot \\left( \\frac{B_2 \\cdot A_{21} \\cdot X_1}{A_{22}} \\right) = B_1 \\\\\n",
    "A_{11} \\cdot X_1 + \\frac{A_{12} \\cdot B_2}{A_{22}} - \\frac{A_{12} \\cdot A_{21} \\cdot X_1}{A_{22}} = B_1 \\\\\n",
    "A_{11}A_{22}X_1 + A_{12}B_2 - A_{12}A_{21}X_1 = A_{22}B_1 \\\\\n",
    "X_1 \\left( A_{11}A_{22} - A_{12}A_{21} \\right) + A_{12}B_2 = A_{22}B_1 \\\\\n",
    "\\boxed{X_1 = \\frac{B_1A_{22} - B_2A_{12}}{A_{11}A_{22} - A_{12}A_{21}}} \\quad (4)\n",
    "$$\n",
    "<p style=\"text-align:justify;text-indent:2em\">(4) &rarr; (2):</p>\n",
    "$$\n",
    "A_{21} \\left( \\frac{B_1A_{22} - B_2A_{12}}{A_{11}A_{22} - A_{12}A_{21}} \\right) + A_{22}X_2 = B_2 \\\\\n",
    "A_{22}X_2 = B_2 - A_{21} \\left( \\frac{B_1A_{22} - B_2A_{12}}{A_{11}A_{22} - A_{12}A_{21}} \\right) \\\\\n",
    "X_2 = \\frac{B_2}{A_{22}} - \\frac{A_{21}}{A_{22}} \\left( \\frac{B_1A_{22} - B_2A_{12}}{A_{11}A_{22} - A_{12}A_{21}} \\right) \\\\\n",
    "X_2 = \\frac{B_2}{A_{22}} - \\frac{A_{21}B_1A_{22}}{A_{22}(A_{11}A_{22} - A_{12}A_{21})} + \\frac{A_{21}B_2A_{12}}{A_{22}(A_{11}A_{22} - A_{12}A_{21})} \\\\\n",
    "X_2 = \\frac{B_2(A_{11}A_{22}-A_{12}A_{21})+B_2A_{12}A_{21}}{A_{22}(A_{11}A_{22} - A_{12}A_{21})} - \\frac{B_1A_{21}}{A_{11}A_{22}-A_{12}A_{21}} \\\\\n",
    "X_2 = \\frac{B_2(A_{11}A_{22}-A_{12}A_{21}+A_{12}A_{21})}{A_{22}(A_{11}A_{22} - A_{12}A_{21})} - \\frac{B_1A_{21}}{A_{11}A_{22}-A_{12}A_{21}} \\\\\n",
    "X_2 = \\frac{B_2A_{11}A_{22}}{A_{22}(A_{11}A_{22} - A_{12}A_{21})} - \\frac{B_1A_{21}}{A_{11}A_{22}-A_{12}A_{21}} \\\\\n",
    "\\boxed{X_2 = \\frac{B_2A_{11}-B_1A_{21}}{A_{11}A_{22}-A_{12}A_{21}}} \\quad (5)\n",
    "$$\n",
    "<p style=\"text-align:justify;text-indent:2em\">Vemos que as duas soluções tem o mesmo termo no denominador:</p>\n",
    "$$\n",
    "A_{11}A_{22}-A_{12}A_{21}\n",
    "$$\n",
    "<p style=\"text-align:justify;text-indent:2em\">A esse termo se deu o nome de <b><u>determinante</u></b>.</p>"
   ]
  },
  {
   "cell_type": "markdown",
   "metadata": {},
   "source": [
    "<p style=\"text-align:justify;text-indent:2em\">Dada uma matriz <b>A</b> 2 por 2, podemos escrever seu determinante como:</p>\n",
    "$$\n",
    "det(\\mathbf{A}) = \\left| \\mathbf{A} \\right| = \\begin{vmatrix} A_{11} & A_{12} \\\\ A_{21} & A_{22} \\end{vmatrix} = A_{11}A_{22}-A_{12}A_{21}\n",
    "$$"
   ]
  },
  {
   "cell_type": "markdown",
   "metadata": {},
   "source": [
    "<h3>MENOR</h3>\n",
    "<p style=\"text-align:justify;text-indent:2em\"><b>Menor</b> de ordem <i>n</i> é o determinante de uma matriz quadrada de ordem <i>n</i> (sendo <i>n&lt;N</i>, com <i>N</i> sendo a ordem da matriz original) obtida pela remoção de <i>N-n</i> linhas e colunas da matriz original.</p>\n",
    "<b>Exemplo:</b>\n",
    "$$\n",
    "\\mathbf{A} = \\begin{bmatrix} 1 & 2 & 3 \\\\ 4 & 5 & 6 \\\\ 7 & 8 & 9 \\end{bmatrix} , \\\\ A_{23}^{m \\ 2} = \\begin{vmatrix} 1 & 2 & \\times \\\\ \\times & \\times & \\times \\\\ 7 & 8 & \\times \\end{vmatrix} = \\begin{vmatrix} 1 & 2 \\\\ 7 & 8 \\end{vmatrix} = 1 \\cdot 8 - 2 \\cdot 7 = -6\n",
    "$$"
   ]
  },
  {
   "cell_type": "markdown",
   "metadata": {},
   "source": [
    "<h3>COFATOR</h3>\n",
    "<p style=\"text-align:justify;text-indent:2em\">É um menor de ordem <i>N-1</i> multiplicado por um termo de ajuste de sinal. É dado da seguinte forma:</p>\n",
    "$$\n",
    "A_{ij}^c = (-1)^{i+j} \\cdot A_{ij}^{m \\ N-1}\n",
    "$$\n",
    "<b>Exemplo:</b>\n",
    "$$\n",
    "\\mathbf{A} = \\begin{bmatrix} 1 & 2 & 3 \\\\ 4 & 5 & 6 \\\\ 7 & 8 & 9 \\end{bmatrix} , \\\\ A_{23}^{c} = (-1)^{2+3} \\cdot \\begin{vmatrix} 1 & 2 & \\times \\\\ \\times & \\times & \\times \\\\ 7 & 8 & \\times \\end{vmatrix} = (-1)^5 \\cdot \\begin{vmatrix} 1 & 2 \\\\ 7 & 8 \\end{vmatrix} = -(1 \\cdot 8 - 2 \\cdot 7) = 6\n",
    "$$\n",
    "<br>\n",
    "<h5>– MATRIZ COFATOR</h5>\n",
    "$$\n",
    "\\mathbf{A}^c = \\begin{bmatrix} A_{11}^c & \\cdots & A_{1N}^c \\\\ \\vdots & \\ddots & \\vdots \\\\ A_{N1}^c & \\cdots & A_{NN}^c \\end{bmatrix}\n",
    "$$\n",
    "<h5>– MATRIZ ADJUNTA</h5>\n",
    "$$\n",
    "\\mathbf{A}^a = (\\mathbf{A}^c)^T = \\begin{bmatrix} A_{11}^c & \\cdots & A_{N1}^c \\\\ \\vdots & \\ddots & \\vdots \\\\ A_{1N}^c & \\cdots & A_{NN}^c \\end{bmatrix}\n",
    "$$"
   ]
  },
  {
   "cell_type": "markdown",
   "metadata": {},
   "source": [
    "<h3>CÁLCULO DE DETERMINANTE POR EXPANSÃO EM COFATORES</h3>\n",
    "<p style=\"text-align:justify;text-indent:2em\">O determinante de uma matriz quadrada de ordem <i>N</i> pode ser calculado pela soma dos produtos dos termos de uma linha ou coluna qualquer pelos seus respectivos cofatores. É um método que pode ser aplicado de maneira recursiva.</p>\n",
    "<b>Exemplo:</b>\n",
    "$$\n",
    "\\mathbf{A} = \\begin{bmatrix} 1 & 2 & 3 \\\\ 4 & 5 & 6 \\\\ 7 & 8 & 9 \\end{bmatrix} , \\\\\n",
    "det(\\mathbf{A}) = \\begin{vmatrix} 1 & \\color{blue}{2} & 3 \\\\ 4 & \\color{blue}{5} & 6 \\\\ 7 & \\color{blue}{8} & 9 \\end{vmatrix} = 2 \\cdot (-1)^{1+2} \\cdot \\begin{vmatrix} 4 & 6 \\\\ 7 & 9 \\end{vmatrix} + 5  \\cdot (-1)^{2+2} \\cdot \\begin{vmatrix} 1 & 3 \\\\ 7 & 9 \\end{vmatrix} + 8 \\cdot (-1)^{3+2} \\cdot \\begin{vmatrix} 1 & 3 \\\\ 4 & 6 \\end{vmatrix} \n",
    "$$"
   ]
  },
  {
   "cell_type": "code",
   "execution_count": null,
   "metadata": {
    "collapsed": true
   },
   "outputs": [],
   "source": []
  }
 ],
 "metadata": {
  "kernelspec": {
   "display_name": "Python 2",
   "language": "python",
   "name": "python2"
  },
  "language_info": {
   "codemirror_mode": {
    "name": "ipython",
    "version": 2
   },
   "file_extension": ".py",
   "mimetype": "text/x-python",
   "name": "python",
   "nbconvert_exporter": "python",
   "pygments_lexer": "ipython2",
   "version": "2.7.9"
  }
 },
 "nbformat": 4,
 "nbformat_minor": 0
}
