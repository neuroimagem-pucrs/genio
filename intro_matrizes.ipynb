{
 "cells": [
  {
   "cell_type": "markdown",
   "metadata": {},
   "source": [
    "<head>\n",
    "\n",
    "<title>INTRODUÇÃO ÀS MATRIZES</title>\n",
    "\n",
    "</head>"
   ]
  },
  {
   "cell_type": "markdown",
   "metadata": {},
   "source": [
    "<h1 style=\"text-align:center\">INTRODUÇÃO ÀS MATRIZES</h1>"
   ]
  },
  {
   "cell_type": "markdown",
   "metadata": {},
   "source": [
    "<h3>OBJETIVOS</h3>\n",
    "\n",
    "<ul>\n",
    "    <li>Definir o que é uma matriz;</li>\n",
    "    <li>Conhecer algumas classificações de matrizes;</li>\n",
    "    <li>Compreender fundamentos das operações com matrizes.</li>\n",
    "</ul>"
   ]
  },
  {
   "cell_type": "markdown",
   "metadata": {},
   "source": [
    "<h3>INTRODUÇÃO</h3>\n",
    "\n",
    "<p style=\"text-align:justify;text-indent:2em\"></p>"
   ]
  },
  {
   "cell_type": "markdown",
   "metadata": {},
   "source": [
    "<h3>O QUE É UMA MATRIZ?</h3>\n",
    "\n",
    "<p style=\"text-align:jusify;text-indent:2em\"></p>\n",
    "\n",
    "$$\n",
    "\\mathbf{A}_{m,n} =\\begin{bmatrix} a_{1,1} & a_{1,2} & \\cdots & a_{1,n} \\\\ a_{2,1} & a_{2,2} & \\cdots & a_{2,n} \\\\ \\vdots  & \\vdots  & \\ddots & \\vdots  \\\\ a_{m,1} & a_{m,2} & \\cdots & a_{m,n} \\end{bmatrix}\n",
    "$$"
   ]
  },
  {
   "cell_type": "code",
   "execution_count": 65,
   "metadata": {
    "collapsed": false
   },
   "outputs": [
    {
     "name": "stdout",
     "output_type": "stream",
     "text": [
      "A =  [[ 3.    1.3  -0.44]\n",
      " [-2.    0.1   7.  ]]\n"
     ]
    }
   ],
   "source": [
    "import numpy as np\n",
    "np.set_printoptions(precision=3,suppress=True)\n",
    "\n",
    "a = np.array([[3, 1.3, -0.44],[-2, 0.1, 7]])\n",
    "print \"A = \",a"
   ]
  },
  {
   "cell_type": "markdown",
   "metadata": {},
   "source": [
    "<h3>TIPOS DE MATRIZES</h3>"
   ]
  },
  {
   "cell_type": "markdown",
   "metadata": {},
   "source": [
    "<h5>– VETOR LINHA</h5>\n",
    "\n",
    "<p style=\"text-align:jusify;text-indent:2em\">É uma matriz com somente uma linha.</p>\n",
    "\n",
    "$$\n",
    "\\mathbf{A}_{1,n} = \\vec{A} = \\begin{bmatrix} a_{1,1} & a_{1,2} & a_{1,3} & \\cdots & a_{1,n} \\end{bmatrix} \n",
    "$$"
   ]
  },
  {
   "cell_type": "markdown",
   "metadata": {},
   "source": [
    "<h5>– VETOR COLUNA</h5>\n",
    "\n",
    "<p style=\"text-align:jusify;text-indent:2em\">É uma matriz com somente uma coluna.</p>\n",
    "\n",
    "$$\n",
    "\\mathbf{A}_{m,1} = \\vec{A}^{T} = \\begin{bmatrix} a_{1,1} \\\\ a_{2,1} \\\\ a_{3,1} \\\\ \\vdots \\\\ a_{m,1} \\end{bmatrix}\n",
    "$$"
   ]
  },
  {
   "cell_type": "markdown",
   "metadata": {},
   "source": [
    "<h5>– SUBMATRIZ</h5>\n",
    "\n",
    "<p style=\"text-align:jusify;text-indent:2em\">Uma submatriz é obtida quando se remove um conjunto de linhas e/ou colunas de uma matriz.</p>\n",
    "\n",
    "<b>Exemplo:</b>\n",
    "$$\n",
    "\\begin{bmatrix} \\color{red}{a_{1,1}} & a_{1,2} & a_{1,3} & a_{1,4} \\\\ \\color{red}{a_{2,1}} & \\color{red}{a_{2,2}} & \\color{red}{a_{2,3}} & \\color{red}{a_{2,4}} \\\\ \\color{red}{a_{3,1}} & a_{3,2} & a_{3,3} & a_{3,4} \\end{bmatrix} \\Rightarrow \\begin{bmatrix} a_{1,2} & a_{1,3} & a_{1,4} \\\\ a_{3,2} & a_{3,3} & a_{3,4} \\end{bmatrix}\n",
    "$$"
   ]
  },
  {
   "cell_type": "markdown",
   "metadata": {},
   "source": [
    "<h5>– MATRIZ QUADRADA</h5>\n",
    "\n",
    "<p style=\"text-align:jusify;text-indent:2em\">É uma matriz com o mesmo número de linhas e de colunas.</p>\n",
    "\n",
    "$$\n",
    "\\mathbf{A}_{m,m} =\\begin{bmatrix} a_{1,1} & a_{1,2} & \\cdots & a_{1,m} \\\\ a_{2,1} & a_{2,2} & \\cdots & a_{2,m} \\\\ \\vdots  & \\vdots  & \\ddots & \\vdots  \\\\ a_{m,1} & a_{m,2} & \\cdots & a_{m,m} \\end{bmatrix}\n",
    "$$"
   ]
  },
  {
   "cell_type": "markdown",
   "metadata": {},
   "source": [
    "<h5>– MATRIZ DIAGONAL</h5>\n",
    "\n",
    "<p style=\"text-align:jusify;text-indent:2em\">É uma matriz quadrada que tem zero em todos os termos que não estão na diagonal principal.</p>\n",
    "\n",
    "$$\n",
    "\\mathbf{A}_{i,j}=0, \\quad \\forall \\quad i \\neq j \\\\ \n",
    "\\mathbf{A}_{m,m} = \\begin{bmatrix} a_{1,1} & 0 & 0 & \\cdots & 0 \\\\ 0 & a_{2,2} & 0 &\\cdots & 0 \\\\ 0 & 0 & a_{3,3} & \\cdots & 0 \\\\ \\vdots & \\vdots & \\vdots & \\ddots & \\vdots \\\\ 0 & 0 & 0 & \\cdots & a_{m,m} \\end{bmatrix}\n",
    "$$"
   ]
  },
  {
   "cell_type": "markdown",
   "metadata": {},
   "source": [
    "<h5>– MATRIZ IDENTIDADE</h5>\n",
    "\n",
    "<p style=\"text-align:jusify;text-indent:2em\">É uma matriz diagonal em que todos os termos da diagonal principal são iguais a 1.</p>\n",
    "\n",
    "$$\n",
    "\\mathbf{I}_1 = \\begin{bmatrix} 1 \\end{bmatrix} \n",
    "\\\\\n",
    "\\mathbf{I}_2 = \\begin{bmatrix} 1 & 0 \\\\ 0 & 1 \\end{bmatrix} \\\\\n",
    "\\vdots\n",
    "\\\\\n",
    "\\mathbf{I}_m = \\begin{bmatrix} 1 & 0 & \\cdots & 0 \\\\ 0 & 1 & \\cdots & 0 \\\\ \\vdots & \\vdots & \\ddots & \\vdots \\\\ 0 & 0 & \\cdots & 1 \\end{bmatrix}\n",
    "$$"
   ]
  },
  {
   "cell_type": "markdown",
   "metadata": {},
   "source": [
    "<h5>– MATRIZ TRIANGULAR</h5>\n",
    "\n",
    "<p style=\"text-align:jusify;text-indent:2em\">Uma matriz triangular superior tem 0 em todos os termos abaixo da diagonal principal. Analogamente, uma matriz triangular inferior tem 0 em todos os termos acima da diagonal principal.</p>\n",
    "\n",
    "$$\n",
    "\\mathbf{U}_{i,j} = 0, \\quad \\forall \\quad i > j \\\\\n",
    "\\mathbf{U} = \\begin{bmatrix} u_{1,1} & u_{1,2} & u_{1,3} & \\cdots & u_{1,n} \\\\ 0 & u_{2,2} & u_{2,3} & \\cdots & u_{2,n} \\\\ 0 & 0 & u_{3,3} & \\cdots & u_{3,n} \\\\ \\vdots & \\vdots & \\vdots & \\ddots & \\vdots \\\\ 0 & 0 & 0& \\cdots & u_{n,n}\\end{bmatrix}\n",
    "$$\n",
    "\n",
    "$$\n",
    "\\mathbf{L}_{i,j} = 0, \\quad \\forall \\quad i < j \\\\\n",
    "\\mathbf{L} = \\begin{bmatrix} l_{1,1} & 0 & 0 & \\cdots & 0 \\\\ l_{2,1} & l_{2,2} & 0 & \\cdots & 0 \\\\ l_{3,1} & l_{3,2} & l_{3,3} & \\cdots & 0 \\\\ \\vdots & \\vdots & \\vdots & \\ddots & \\vdots \\\\ l_{m,1} & l_{m,2} & l_{m,3} & \\cdots & l_{m,m}\\end{bmatrix}\n",
    "$$"
   ]
  },
  {
   "cell_type": "markdown",
   "metadata": {},
   "source": [
    "<h5>– MATRIZ SIMÉTRICA</h5>\n",
    "\n",
    "<p style=\"text-align:jusify;text-indent:2em\">É uma matriz que quadrada que é igual à sua transposta. Se a matriz for igual ao negativo da sua transposta, é chamada de antissimétrica.</p>\n",
    "\n",
    "$$\n",
    "\\text{Matriz Simétrica:} \\quad \\mathbf{A}=\\mathbf{A}^T\n",
    "\\\\\n",
    "\\text{Matriz Antissimétrica:} \\quad \\mathbf{A}=-\\mathbf{A}^T\n",
    "$$"
   ]
  },
  {
   "cell_type": "markdown",
   "metadata": {},
   "source": [
    "<h5>– MATRIZ INVERSA</h5>\n",
    "\n",
    "<p style=\"text-align:jusify;text-indent:2em\">Uma matriz <b>A</b> é dita invertível se existe uma matriz <b>B</b> tal que:</p>\n",
    "\n",
    "$$\n",
    "\\mathbf{AB} = \\mathbf{BA} = \\mathbf{I}, \\quad \\therefore \\quad \\mathbf{B} = \\mathbf{A}^{-1}\n",
    "$$\n",
    "\n",
    "<p style=\"text-align:jusify;text-indent:2em\">Se <b>B</b> existe, é única e é chamada de matriz inversa de <b>A</b>.</p>"
   ]
  },
  {
   "cell_type": "markdown",
   "metadata": {},
   "source": [
    "<h5>– MATRIZ ORTOGONAL</h5>\n",
    "\n",
    "<p style=\"text-align:jusify;text-indent:2em\">Uma matriz é dita ortogonal quando a sua transposta é igual à sua inversa.</p>\n",
    "\n",
    "$$\n",
    "\\mathbf{A}^{T} = \\mathbf{A}^{-1}, \\quad \\therefore \\quad \\mathbf{A}^{T} \\mathbf{A} = \\mathbf{A} \\mathbf{A}^{T} = \\mathbf{I}\n",
    "$$"
   ]
  },
  {
   "cell_type": "markdown",
   "metadata": {},
   "source": [
    "<h3>OPERAÇÕES FUNDAMENTAIS COM MATRIZES</h3>"
   ]
  },
  {
   "cell_type": "markdown",
   "metadata": {},
   "source": [
    "<h5>– ADIÇÃO</h5>\n",
    "\n",
    "<p style=\"text-indent:2em;text-align:justify;\">Sendo <b>A</b> e <b>B</b> duas matrizes <i>m</i> por <i>n</i>:</p>\n",
    "\n",
    "$$\n",
    "(\\mathbf{A}+\\mathbf{B})_{i,j}=\\mathbf{A}_{i,j}+\\mathbf{B}_{i,j}\n",
    "$$\n",
    "\n",
    "<b>Exemplo:</b>\n",
    "\n",
    "$$\n",
    "\\begin{bmatrix} 3 & 1.3 & -0.44 \\\\ -2 & 0.1 & 7 \\end{bmatrix} + \\begin{bmatrix} \\sqrt{2} & \\frac{-1}{2} & 0.45 \\\\ 2 & 10 & 0 \\end{bmatrix} = \\begin{bmatrix} 3+\\sqrt{2} & 0.8 & 0.01 \\\\ 0 & 10.1 & 7 \\end{bmatrix}\n",
    "$$"
   ]
  },
  {
   "cell_type": "code",
   "execution_count": 60,
   "metadata": {
    "collapsed": false
   },
   "outputs": [
    {
     "name": "stdout",
     "output_type": "stream",
     "text": [
      "A =  [[ 3.    1.3  -0.44]\n",
      " [-2.    0.1   7.  ]]\n",
      "B =  [[  1.414  -0.5     0.45 ]\n",
      " [  2.     10.      0.   ]]\n",
      "A + B =  [[  4.414   0.8     0.01 ]\n",
      " [  0.     10.1     7.   ]]\n"
     ]
    }
   ],
   "source": [
    "b = np.array([[np.sqrt(2), -0.5, 0.45],[2, 10, 0]])\n",
    "\n",
    "print \"A = \",a\n",
    "print \"B = \",b\n",
    "print \"A + B = \",(a+b)"
   ]
  },
  {
   "cell_type": "markdown",
   "metadata": {},
   "source": [
    "<h5>– MULTIPLICAÇÃO POR ESCALAR</h5>\n",
    "\n",
    "<p style=\"text-align:justify;text-indent:2em\">A multiplicação de uma matriz <b>A</b> uma matriz <i>m</i> por <i>n</i> por um escalar <i>c</i> vai ser simplesmente a multiplicação de cada termo de <b>A</b> por <i>c</i></p>\n",
    "\n",
    "$$\n",
    "(c\\mathbf{A})_{i,j}=c\\cdot\\mathbf{A}_{i,j}\n",
    "$$\n",
    "\n",
    "<b>Exemplo:</b>\n",
    "\n",
    "$$\n",
    "4 \\cdot \\begin{bmatrix} 3 & 1.3 & -0.44 \\\\ -2 & 0.1 & 7 \\end{bmatrix} = \\begin{bmatrix} 12 & 5.2 & -1.76 \\\\ -8 & 0.4 & 28 \\end{bmatrix}\n",
    "$$"
   ]
  },
  {
   "cell_type": "code",
   "execution_count": 62,
   "metadata": {
    "collapsed": false
   },
   "outputs": [
    {
     "name": "stdout",
     "output_type": "stream",
     "text": [
      "A =  [[ 3.    1.3  -0.44]\n",
      " [-2.    0.1   7.  ]]\n",
      "4.A =  [[ 12.     5.2   -1.76]\n",
      " [ -8.     0.4   28.  ]]\n"
     ]
    }
   ],
   "source": [
    "print \"A = \",a\n",
    "print \"4.A = \",4*a"
   ]
  },
  {
   "cell_type": "markdown",
   "metadata": {},
   "source": [
    "<h5>– TRANSPOSIÇÃO</h5>\n",
    "\n",
    "<p style=\"text-align:justify;text-indent:2em\">Sendo <b>A</b> uma matriz <i>m</i> por <i>n</i>, sua transposta vai ser uma matriz <i>n</i> por <i>m</i> formada pela transformação de linhas em colunas e vice-versa</p>\n",
    "\n",
    "$$\n",
    "(\\mathbf{A}^{T})_{i,j} = \\mathbf{A}_{j,i}\n",
    "$$\n",
    "\n",
    "<b>Exemplo:</b>\n",
    "\n",
    "$$\n",
    "\\begin{bmatrix} 3 & 1.3 & -0.44 \\\\ -2 & 0.1 & 7 \\end{bmatrix}^{T} = \\begin{bmatrix} 3 & -2 \\\\ 1.3 & 0.1 \\\\ -0.44 & 7 \\end{bmatrix}\n",
    "$$"
   ]
  },
  {
   "cell_type": "code",
   "execution_count": 63,
   "metadata": {
    "collapsed": false
   },
   "outputs": [
    {
     "name": "stdout",
     "output_type": "stream",
     "text": [
      "A =  [[ 3.    1.3  -0.44]\n",
      " [-2.    0.1   7.  ]]\n",
      "A' =  [[ 3.   -2.  ]\n",
      " [ 1.3   0.1 ]\n",
      " [-0.44  7.  ]]\n"
     ]
    }
   ],
   "source": [
    "print \"A = \",a\n",
    "print \"A' = \",a.T"
   ]
  },
  {
   "cell_type": "markdown",
   "metadata": {},
   "source": [
    "<h5>– PRODUTO</h5>\n",
    "\n",
    "<p style=\"text-align:justify;text-indent:2em\"></p>"
   ]
  },
  {
   "cell_type": "code",
   "execution_count": null,
   "metadata": {
    "collapsed": true
   },
   "outputs": [],
   "source": []
  },
  {
   "cell_type": "markdown",
   "metadata": {},
   "source": [
    "<h5>– OPERAÇÕES DE LINHAS</h5>\n",
    "\n",
    "<p style=\"text-align:justify;text-indent:2em\"></p>"
   ]
  },
  {
   "cell_type": "code",
   "execution_count": null,
   "metadata": {
    "collapsed": true
   },
   "outputs": [],
   "source": []
  }
 ],
 "metadata": {
  "kernelspec": {
   "display_name": "Python 2",
   "language": "python",
   "name": "python2"
  },
  "language_info": {
   "codemirror_mode": {
    "name": "ipython",
    "version": 2
   },
   "file_extension": ".py",
   "mimetype": "text/x-python",
   "name": "python",
   "nbconvert_exporter": "python",
   "pygments_lexer": "ipython2",
   "version": "2.7.9"
  }
 },
 "nbformat": 4,
 "nbformat_minor": 0
}
