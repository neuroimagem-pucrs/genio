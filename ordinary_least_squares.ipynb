{
 "cells": [
  {
   "cell_type": "markdown",
   "metadata": {},
   "source": [
    "<head>\n",
    "\n",
    "<title>REGRESSÃO LINEAR POR MÍNIMOS QUADRADOS</title>\n",
    "\n",
    "</head>"
   ]
  },
  {
   "cell_type": "markdown",
   "metadata": {},
   "source": [
    "<h1 style=\"text-align:center\">REGRESSÃO LINEAR POR MÍNIMOS QUADRADOS</h1>"
   ]
  },
  {
   "cell_type": "markdown",
   "metadata": {},
   "source": [
    "<h3>OBJETIVOS</h3>\n",
    "\n",
    "<ul>\n",
    "    <li>Entender o propósito e as limitações de uma Regressão Linear;</li>\n",
    "    <li>Derivar o método de Regressão Linear por Mínimos Quadrados.</li>\n",
    "</ul>"
   ]
  },
  {
   "cell_type": "markdown",
   "metadata": {},
   "source": [
    "<h3>INTRODUÇÃO</h3>\n",
    "\n",
    "<p style=\"text-align:justify;text-indent:2em\">Regressão Linear Por Mínimos Quadrados (Ordinary Least Squares) é frequente no universo de processamento de imagem, já que, muitas vezes, fazemos medidas indiretas dos dados que são de interesse. É um método popular por ser bastante intuitivo e de fácil implementação. Entretanto, sua derivação não é de interesse dos usuários na maioria das vezes.</p>"
   ]
  },
  {
   "cell_type": "markdown",
   "metadata": {},
   "source": []
  }
 ],
 "metadata": {
  "kernelspec": {
   "display_name": "Python 2",
   "language": "python",
   "name": "python2"
  },
  "language_info": {
   "codemirror_mode": {
    "name": "ipython",
    "version": 2
   },
   "file_extension": ".py",
   "mimetype": "text/x-python",
   "name": "python",
   "nbconvert_exporter": "python",
   "pygments_lexer": "ipython2",
   "version": "2.7.9"
  }
 },
 "nbformat": 4,
 "nbformat_minor": 0
}
