{
 "cells": [
  {
   "cell_type": "markdown",
   "metadata": {},
   "source": [
    "<head>\n",
    "<title>INTRODUÇÃO ÀS MATRIZES</title>\n",
    "\n",
    "<meta name=\"author\" content=\"Rômulo Bergesch Raffin\">\n",
    "<meta name=\"date\"content=\"12/05/2015\">\n",
    "<meta name=\"version\" content=\"1.0\">\n",
    "\n",
    "</head>"
   ]
  },
  {
   "cell_type": "markdown",
   "metadata": {},
   "source": [
    "<h1 style=\"text-align:center\">INTRODUÇÃO ÀS MATRIZES</h1>"
   ]
  },
  {
   "cell_type": "markdown",
   "metadata": {},
   "source": [
    "<h3>OBJETIVOS</h3>\n",
    "\n",
    "<ul>\n",
    "    <li>Definir o que é uma matriz;</li>\n",
    "    <li>Conhecer algumas classificações de matrizes;</li>\n",
    "    <li>Compreender fundamentos das operações com matrizes.</li>\n",
    "</ul>"
   ]
  },
  {
   "cell_type": "markdown",
   "metadata": {},
   "source": [
    "<h3>O QUE É UMA MATRIZ?</h3>\n",
    "\n",
    "<p style=\"text-align:jusify;text-indent:2em\">Uma matriz é um arranjo bidimensional e retangular de dados.</p>\n",
    "\n",
    "$$\n",
    "\\mathbf{A}_{m,n} =\\begin{bmatrix} a_{1,1} & a_{1,2} & \\cdots & a_{1,n} \\\\ a_{2,1} & a_{2,2} & \\cdots & a_{2,n} \\\\ \\vdots  & \\vdots  & \\ddots & \\vdots  \\\\ a_{m,1} & a_{m,2} & \\cdots & a_{m,n} \\end{bmatrix}\n",
    "$$"
   ]
  },
  {
   "cell_type": "code",
   "execution_count": 40,
   "metadata": {
    "collapsed": false
   },
   "outputs": [
    {
     "name": "stdout",
     "output_type": "stream",
     "text": [
      "A = \n",
      "[[ 3.    1.3  -0.44]\n",
      " [-2.    0.1   7.  ]]\n"
     ]
    }
   ],
   "source": [
    "import numpy as np\n",
    "np.set_printoptions(precision=3,suppress=True)\n",
    "\n",
    "a = np.array([[3, 1.3, -0.44],[-2, 0.1, 7]])\n",
    "print \"A = \\n\",a"
   ]
  },
  {
   "cell_type": "markdown",
   "metadata": {},
   "source": [
    "<h3>TIPOS DE MATRIZES</h3>"
   ]
  },
  {
   "cell_type": "markdown",
   "metadata": {},
   "source": [
    "<h5>– VETOR LINHA</h5>\n",
    "\n",
    "<p style=\"text-align:jusify;text-indent:2em\">É uma matriz com somente uma linha.</p>\n",
    "\n",
    "$$\n",
    "\\mathbf{A}_{1,n} = \\vec{A} = \\begin{bmatrix} a_{1,1} & a_{1,2} & a_{1,3} & \\cdots & a_{1,n} \\end{bmatrix} \n",
    "$$"
   ]
  },
  {
   "cell_type": "markdown",
   "metadata": {},
   "source": [
    "<h5>– VETOR COLUNA</h5>\n",
    "\n",
    "<p style=\"text-align:jusify;text-indent:2em\">É uma matriz com somente uma coluna.</p>\n",
    "\n",
    "$$\n",
    "\\mathbf{A}_{m,1} = \\vec{A}^{T} = \\begin{bmatrix} a_{1,1} \\\\ a_{2,1} \\\\ a_{3,1} \\\\ \\vdots \\\\ a_{m,1} \\end{bmatrix}\n",
    "$$"
   ]
  },
  {
   "cell_type": "markdown",
   "metadata": {},
   "source": [
    "<h5>– SUBMATRIZ</h5>\n",
    "\n",
    "<p style=\"text-align:jusify;text-indent:2em\">Uma submatriz é obtida quando se remove um conjunto de linhas e/ou colunas de uma matriz.</p>\n",
    "\n",
    "<b>Exemplo:</b>\n",
    "$$\n",
    "\\begin{bmatrix} \\color{red}{a_{1,1}} & a_{1,2} & a_{1,3} & a_{1,4} \\\\ \\color{red}{a_{2,1}} & \\color{red}{a_{2,2}} & \\color{red}{a_{2,3}} & \\color{red}{a_{2,4}} \\\\ \\color{red}{a_{3,1}} & a_{3,2} & a_{3,3} & a_{3,4} \\end{bmatrix} \\Rightarrow \\begin{bmatrix} a_{1,2} & a_{1,3} & a_{1,4} \\\\ a_{3,2} & a_{3,3} & a_{3,4} \\end{bmatrix}\n",
    "$$"
   ]
  },
  {
   "cell_type": "markdown",
   "metadata": {},
   "source": [
    "<h5>– MATRIZ QUADRADA</h5>\n",
    "\n",
    "<p style=\"text-align:jusify;text-indent:2em\">É uma matriz com o mesmo número de linhas e de colunas.</p>\n",
    "\n",
    "$$\n",
    "\\mathbf{A}_{m,m} =\\begin{bmatrix} a_{1,1} & a_{1,2} & \\cdots & a_{1,m} \\\\ a_{2,1} & a_{2,2} & \\cdots & a_{2,m} \\\\ \\vdots  & \\vdots  & \\ddots & \\vdots  \\\\ a_{m,1} & a_{m,2} & \\cdots & a_{m,m} \\end{bmatrix}\n",
    "$$"
   ]
  },
  {
   "cell_type": "markdown",
   "metadata": {},
   "source": [
    "<h5>– MATRIZ DIAGONAL</h5>\n",
    "\n",
    "<p style=\"text-align:jusify;text-indent:2em\">É uma matriz quadrada que tem zero em todos os termos que não estão na diagonal principal.</p>\n",
    "\n",
    "$$\n",
    "\\mathbf{A}_{i,j}=0, \\quad \\forall \\quad i \\neq j \\\\ \n",
    "\\mathbf{A}_{m,m} = \\begin{bmatrix} a_{1,1} & 0 & 0 & \\cdots & 0 \\\\ 0 & a_{2,2} & 0 &\\cdots & 0 \\\\ 0 & 0 & a_{3,3} & \\cdots & 0 \\\\ \\vdots & \\vdots & \\vdots & \\ddots & \\vdots \\\\ 0 & 0 & 0 & \\cdots & a_{m,m} \\end{bmatrix}\n",
    "$$"
   ]
  },
  {
   "cell_type": "markdown",
   "metadata": {},
   "source": [
    "<h5>– MATRIZ IDENTIDADE</h5>\n",
    "\n",
    "<p style=\"text-align:jusify;text-indent:2em\">É uma matriz diagonal em que todos os termos da diagonal principal são iguais a 1.</p>\n",
    "\n",
    "$$\n",
    "\\mathbf{I}_1 = \\begin{bmatrix} 1 \\end{bmatrix} \n",
    "\\\\\n",
    "\\mathbf{I}_2 = \\begin{bmatrix} 1 & 0 \\\\ 0 & 1 \\end{bmatrix} \\\\\n",
    "\\vdots\n",
    "\\\\\n",
    "\\mathbf{I}_m = \\begin{bmatrix} 1 & 0 & \\cdots & 0 \\\\ 0 & 1 & \\cdots & 0 \\\\ \\vdots & \\vdots & \\ddots & \\vdots \\\\ 0 & 0 & \\cdots & 1 \\end{bmatrix}\n",
    "$$"
   ]
  },
  {
   "cell_type": "markdown",
   "metadata": {},
   "source": [
    "<h5>– MATRIZ TRIANGULAR</h5>\n",
    "\n",
    "<p style=\"text-align:jusify;text-indent:2em\">Uma matriz triangular superior tem 0 em todos os termos abaixo da diagonal principal. Analogamente, uma matriz triangular inferior tem 0 em todos os termos acima da diagonal principal.</p>\n",
    "\n",
    "$$\n",
    "\\mathbf{U}_{i,j} = 0, \\quad \\forall \\quad i > j \\\\\n",
    "\\mathbf{U} = \\begin{bmatrix} u_{1,1} & u_{1,2} & u_{1,3} & \\cdots & u_{1,n} \\\\ 0 & u_{2,2} & u_{2,3} & \\cdots & u_{2,n} \\\\ 0 & 0 & u_{3,3} & \\cdots & u_{3,n} \\\\ \\vdots & \\vdots & \\vdots & \\ddots & \\vdots \\\\ 0 & 0 & 0& \\cdots & u_{n,n}\\end{bmatrix}\n",
    "$$\n",
    "\n",
    "$$\n",
    "\\mathbf{L}_{i,j} = 0, \\quad \\forall \\quad i < j \\\\\n",
    "\\mathbf{L} = \\begin{bmatrix} l_{1,1} & 0 & 0 & \\cdots & 0 \\\\ l_{2,1} & l_{2,2} & 0 & \\cdots & 0 \\\\ l_{3,1} & l_{3,2} & l_{3,3} & \\cdots & 0 \\\\ \\vdots & \\vdots & \\vdots & \\ddots & \\vdots \\\\ l_{m,1} & l_{m,2} & l_{m,3} & \\cdots & l_{m,m}\\end{bmatrix}\n",
    "$$"
   ]
  },
  {
   "cell_type": "markdown",
   "metadata": {},
   "source": [
    "<h5>– MATRIZ SIMÉTRICA</h5>\n",
    "\n",
    "<p style=\"text-align:jusify;text-indent:2em\">É uma matriz que quadrada que é igual à sua transposta. Se a matriz for igual ao negativo da sua transposta, é chamada de antissimétrica.</p>\n",
    "\n",
    "$$\n",
    "\\text{Matriz Simétrica:} \\quad \\mathbf{A}=\\mathbf{A}^T\n",
    "\\\\\n",
    "\\text{Matriz Antissimétrica:} \\quad \\mathbf{A}=-\\mathbf{A}^T\n",
    "$$"
   ]
  },
  {
   "cell_type": "markdown",
   "metadata": {},
   "source": [
    "<h5>– MATRIZ INVERSA</h5>\n",
    "\n",
    "<p style=\"text-align:jusify;text-indent:2em\">Uma matriz <b>A</b> é dita invertível se existe uma matriz <b>B</b> tal que:</p>\n",
    "\n",
    "$$\n",
    "\\mathbf{AB} = \\mathbf{BA} = \\mathbf{I}, \\quad \\therefore \\quad \\mathbf{B} = \\mathbf{A}^{-1}\n",
    "$$\n",
    "\n",
    "<p style=\"text-align:jusify;text-indent:2em\">Se <b>B</b> existe, é única e é chamada de matriz inversa de <b>A</b>.</p>"
   ]
  },
  {
   "cell_type": "markdown",
   "metadata": {},
   "source": [
    "<h5>– MATRIZ ORTOGONAL</h5>\n",
    "\n",
    "<p style=\"text-align:jusify;text-indent:2em\">Uma matriz é dita ortogonal quando a sua transposta é igual à sua inversa.</p>\n",
    "\n",
    "$$\n",
    "\\mathbf{A}^{T} = \\mathbf{A}^{-1}, \\quad \\therefore \\quad \\mathbf{A}^{T} \\mathbf{A} = \\mathbf{A} \\mathbf{A}^{T} = \\mathbf{I}\n",
    "$$"
   ]
  },
  {
   "cell_type": "markdown",
   "metadata": {},
   "source": [
    "<h3>OPERAÇÕES FUNDAMENTAIS COM MATRIZES</h3>"
   ]
  },
  {
   "cell_type": "markdown",
   "metadata": {},
   "source": [
    "<h5>– ADIÇÃO</h5>\n",
    "\n",
    "<p style=\"text-indent:2em;text-align:justify;\">Sendo <b>A</b> e <b>B</b> duas matrizes <i>m</i> por <i>n</i>:</p>\n",
    "\n",
    "$$\n",
    "(\\mathbf{A}+\\mathbf{B})_{i,j}=\\mathbf{A}_{i,j}+\\mathbf{B}_{i,j}\n",
    "$$\n",
    "\n",
    "<b>Exemplo:</b>\n",
    "\n",
    "$$\n",
    "\\begin{bmatrix} 3 & 1.3 & -0.44 \\\\ -2 & 0.1 & 7 \\end{bmatrix} + \\begin{bmatrix} \\sqrt{2} & \\frac{-1}{2} & 0.45 \\\\ 2 & 10 & 0 \\end{bmatrix} = \\begin{bmatrix} 3+\\sqrt{2} & 0.8 & 0.01 \\\\ 0 & 10.1 & 7 \\end{bmatrix}\n",
    "$$"
   ]
  },
  {
   "cell_type": "code",
   "execution_count": 41,
   "metadata": {
    "collapsed": false
   },
   "outputs": [
    {
     "name": "stdout",
     "output_type": "stream",
     "text": [
      "A = \n",
      "[[ 3.    1.3  -0.44]\n",
      " [-2.    0.1   7.  ]]\n",
      "B = \n",
      "[[  1.414  -0.5     0.45 ]\n",
      " [  2.     10.      0.   ]]\n",
      "A + B = \n",
      "[[  4.414   0.8     0.01 ]\n",
      " [  0.     10.1     7.   ]]\n"
     ]
    }
   ],
   "source": [
    "b = np.array([[np.sqrt(2), -0.5, 0.45],[2, 10, 0]])\n",
    "\n",
    "print \"A = \\n\",a\n",
    "print \"B = \\n\",b\n",
    "print \"A + B = \\n\",(a+b)"
   ]
  },
  {
   "cell_type": "markdown",
   "metadata": {},
   "source": [
    "<h5>– MULTIPLICAÇÃO POR ESCALAR</h5>\n",
    "\n",
    "<p style=\"text-align:justify;text-indent:2em\">A multiplicação de uma matriz <b>A</b> uma matriz <i>m</i> por <i>n</i> por um escalar <i>c</i> vai ser simplesmente a multiplicação de cada termo de <b>A</b> por <i>c</i></p>\n",
    "\n",
    "$$\n",
    "(c\\mathbf{A})_{i,j}=c\\cdot\\mathbf{A}_{i,j}\n",
    "$$\n",
    "\n",
    "<b>Exemplo:</b>\n",
    "\n",
    "$$\n",
    "4 \\cdot \\begin{bmatrix} 3 & 1.3 & -0.44 \\\\ -2 & 0.1 & 7 \\end{bmatrix} = \\begin{bmatrix} 12 & 5.2 & -1.76 \\\\ -8 & 0.4 & 28 \\end{bmatrix}\n",
    "$$"
   ]
  },
  {
   "cell_type": "code",
   "execution_count": 42,
   "metadata": {
    "collapsed": false
   },
   "outputs": [
    {
     "name": "stdout",
     "output_type": "stream",
     "text": [
      "A = \n",
      "[[ 3.    1.3  -0.44]\n",
      " [-2.    0.1   7.  ]]\n",
      "4.A = \n",
      "[[ 12.     5.2   -1.76]\n",
      " [ -8.     0.4   28.  ]]\n"
     ]
    }
   ],
   "source": [
    "print \"A = \\n\",a\n",
    "print \"4.A = \\n\",4*a"
   ]
  },
  {
   "cell_type": "markdown",
   "metadata": {},
   "source": [
    "<h5>– TRANSPOSIÇÃO</h5>\n",
    "\n",
    "<p style=\"text-align:justify;text-indent:2em\">Sendo <b>A</b> uma matriz <i>m</i> por <i>n</i>, sua transposta vai ser uma matriz <i>n</i> por <i>m</i> formada pela transformação de linhas em colunas e vice-versa</p>\n",
    "\n",
    "$$\n",
    "(\\mathbf{A}^{T})_{i,j} = \\mathbf{A}_{j,i}\n",
    "$$\n",
    "\n",
    "<b>Exemplo:</b>\n",
    "\n",
    "$$\n",
    "\\begin{bmatrix} 3 & 1.3 & -0.44 \\\\ -2 & 0.1 & 7 \\end{bmatrix}^{T} = \\begin{bmatrix} 3 & -2 \\\\ 1.3 & 0.1 \\\\ -0.44 & 7 \\end{bmatrix}\n",
    "$$"
   ]
  },
  {
   "cell_type": "code",
   "execution_count": 43,
   "metadata": {
    "collapsed": false
   },
   "outputs": [
    {
     "name": "stdout",
     "output_type": "stream",
     "text": [
      "A = \n",
      "[[ 3.    1.3  -0.44]\n",
      " [-2.    0.1   7.  ]]\n",
      "A' = \n",
      "[[ 3.   -2.  ]\n",
      " [ 1.3   0.1 ]\n",
      " [-0.44  7.  ]]\n"
     ]
    }
   ],
   "source": [
    "print \"A = \\n\",a\n",
    "print \"A' = \\n\",a.T"
   ]
  },
  {
   "cell_type": "markdown",
   "metadata": {},
   "source": [
    "<h5>– PRODUTO</h5>\n",
    "\n",
    "<p style=\"text-align:justify;text-indent:2em\">O produto das matrizes <b>A</b> e <b>B</b> é definido somente se <b>A</b> for uma matriz <i>m</i> por <i>n</i> e <b>B</b> for uma matriz <i>n</i> por <i>p</i>. Ou seja, a primeira matriz deve ter um número de colunas igual ao número de linhas da segunda. Satisfeita essa condição, a multiplicação de duas matrizes pode ser definida da seguinte forma:</p>\n",
    "\n",
    "$$\n",
    "[\\mathbf{A}\\mathbf{B}]_{i,j} = A_{i,1}B_{1,j} + A_{i,2}B_{2,j}+ \\cdots + A_{i,n}B_{n,j} = \\sum\\limits_{r=1}^n A_{i,r}B_{r,j} \\\\\n",
    "para \\ 1\\leq i \\leq m\\ e\\ 1\\leq j\\leq p\n",
    "$$\n",
    "\n",
    "<p style=\"text-align:justify;text-indent:2em\"><b>Observação:</b> o produto de matrizes <b>não</b> é comutativo. Ou seja, geralmente, <b>AB ≠ BA.</b></p>"
   ]
  },
  {
   "cell_type": "code",
   "execution_count": 44,
   "metadata": {
    "collapsed": false
   },
   "outputs": [
    {
     "name": "stdout",
     "output_type": "stream",
     "text": [
      "A =\n",
      "[[1 2]\n",
      " [3 4]]\n",
      "B =\n",
      "[[0 1]\n",
      " [0 0]]\n",
      "AB =\n",
      "[[0 1]\n",
      " [0 3]]\n",
      "BA =\n",
      "[[3 4]\n",
      " [0 0]]\n"
     ]
    }
   ],
   "source": [
    "a = np.array([[1,2],[3,4]])\n",
    "b = np.array([[0,1],[0,0]])\n",
    "\n",
    "print \"A =\"\n",
    "print a\n",
    "print \"B =\"\n",
    "print b\n",
    "print \"AB =\"\n",
    "print np.dot(a,b)\n",
    "print \"BA =\"\n",
    "print np.dot(b,a)"
   ]
  },
  {
   "cell_type": "markdown",
   "metadata": {},
   "source": [
    "<h5>– OPERAÇÕES DE LINHAS</h5>\n",
    "\n",
    "<p style=\"text-align:justify;text-indent:2em\">As operações de linhas se dividem em três tipos:\n",
    "<ol>\n",
    "        <li><b>Adição de linhas:</b> substituir uma linha por uma nova linha originada da soma da linha substituída com uma outra da matriz.<br>\n",
    "        <b>Exemplo:</b> substituindo a primeira linha pela soma da primeira com a segunda linha.\n",
    "        $$\n",
    "        \\begin{bmatrix} 1 & 2 & 3 \\\\ 4 & 5 & 6 \\\\ 7 & 8 & 9 \\end{bmatrix} \\Rightarrow \\begin{bmatrix} 5 & 7 & 9 \\\\ 4 & 5 & 6 \\\\ 7 & 8 & 9 \\end{bmatrix}\n",
    "        $$\n",
    "        </li>\n",
    "        <br>\n",
    "        <li><b>Multiplicação de linhas:</b> substituir uma linha por uma nova linha originada da multiplicação de todos os seus termos por uma constante não-zero. <br>\n",
    "        <b>Exemplo:</b> substituindo a terceira linha por sua multiplicação por 4.\n",
    "        $$\n",
    "        \\begin{bmatrix} 1 & 2 & 3 \\\\ 4 & 5 & 6 \\\\ 7 & 8 & 9 \\end{bmatrix} \\Rightarrow \\begin{bmatrix} 1 & 2 & 3 \\\\ 4 & 5 & 6 \\\\ 28 & 32 & 36 \\end{bmatrix}\n",
    "        $$\n",
    "        </li>\n",
    "        <br>\n",
    "        <li><b>Troca de linhas:</b> trocar a posição de duas linhas. <br>\n",
    "        <b>Exemplo:</b> trocar a segunda e a terceira linha.\n",
    "        $$\n",
    "        \\begin{bmatrix} 1 & 2 & 3 \\\\ 4 & 5 & 6 \\\\ 7 & 8 & 9 \\end{bmatrix} \\Rightarrow \\begin{bmatrix} 1 & 2 & 3 \\\\ 7 & 8 & 9 \\\\ 4 & 5 & 6 \\end{bmatrix}\n",
    "        $$\n",
    "        </li>\n",
    "        <br>\n",
    "</ol>\n",
    "</p>"
   ]
  },
  {
   "cell_type": "code",
   "execution_count": 45,
   "metadata": {
    "collapsed": false
   },
   "outputs": [
    {
     "name": "stdout",
     "output_type": "stream",
     "text": [
      "A =\n",
      "[[1 2 3]\n",
      " [4 5 6]\n",
      " [7 8 9]]\n",
      "Primeiro exemplo:\n",
      "[[5 7 9]\n",
      " [4 5 6]\n",
      " [7 8 9]]\n",
      "Segundo exemplo:\n",
      "[[ 1  2  3]\n",
      " [ 4  5  6]\n",
      " [28 32 36]]\n",
      "Terceiro exemplo:\n",
      "[[1 2 3]\n",
      " [7 8 9]\n",
      " [4 5 6]]\n"
     ]
    }
   ],
   "source": [
    "a = np.array([[1,2,3],[4,5,6],[7,8,9]])\n",
    "print \"A =\"\n",
    "print a\n",
    "\n",
    "print \"Primeiro exemplo:\"\n",
    "temp = np.copy(a)\n",
    "temp[0] = temp[0] + temp[1]\n",
    "print temp\n",
    "\n",
    "print \"Segundo exemplo:\"\n",
    "temp = np.copy(a)\n",
    "temp[2] = 4*temp[2]\n",
    "print temp\n",
    "\n",
    "print \"Terceiro exemplo:\"\n",
    "temp = np.copy(a)\n",
    "swap = np.copy(temp[1])\n",
    "temp[1] = np.copy(temp[2])\n",
    "temp[2] = np.copy(swap)\n",
    "print temp"
   ]
  }
 ],
 "metadata": {
  "kernelspec": {
   "display_name": "Python 2",
   "language": "python",
   "name": "python2"
  },
  "language_info": {
   "codemirror_mode": {
    "name": "ipython",
    "version": 2
   },
   "file_extension": ".py",
   "mimetype": "text/x-python",
   "name": "python",
   "nbconvert_exporter": "python",
   "pygments_lexer": "ipython2",
   "version": "2.7.9"
  }
 },
 "nbformat": 4,
 "nbformat_minor": 0
}
